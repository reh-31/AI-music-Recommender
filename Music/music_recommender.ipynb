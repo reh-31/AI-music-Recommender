{
 "cells": [
  {
   "cell_type": "code",
   "execution_count": null,
   "metadata": {},
   "outputs": [],
   "source": [
    "import pandas as pd\n",
    "from sklearn.feature_extraction.text import TfidfVectorizer\n",
    "from sklearn.metrics.pairwise import cosine_similarity\n",
    "import ipywidgets as widgets\n",
    "from IPython.display import display"
   ]
  },
  {
   "cell_type": "code",
   "execution_count": null,
   "metadata": {},
   "outputs": [],
   "source": [
    "# Load the dataset\n",
    "df = pd.read_csv(\"spotify_millsongdata.csv\")  # Replace with your dataset\n",
    "\n",
    "# Sample the data to reduce size (optional)\n",
    "df = df.sample(5000).reset_index(drop=True)\n",
    "\n",
    "# Basic text cleaning\n",
    "df['text'] = df['text'].str.lower().replace(r'\\\\r\\\\n', ' ', regex=True)\n",
    "\n",
    "# Drop unnecessary columns\n",
    "df = df.drop('link', axis=1)"
   ]
  },
  {
   "cell_type": "code",
   "execution_count": null,
   "metadata": {},
   "outputs": [],
   "source": [
    "# Initialize the TF-IDF Vectorizer\n",
    "tfidf = TfidfVectorizer(stop_words='english')\n",
    "\n",
    "# Fit and transform the text data\n",
    "tfidf_matrix = tfidf.fit_transform(df['text'])\n",
    "\n",
    "# Compute the cosine similarity matrix\n",
    "cosine_sim = cosine_similarity(tfidf_matrix)"
   ]
  },
  {
   "cell_type": "code",
   "execution_count": null,
   "metadata": {},
   "outputs": [],
   "source": [
    "def recommend(song_name, df, cosine_sim):\n",
    "    # Find the index of the song\n",
    "    idx = df[df['song'] == song_name].index[0]\n",
    "    \n",
    "    # Get the pairwise similarity scores\n",
    "    sim_scores = list(enumerate(cosine_sim[idx]))\n",
    "    \n",
    "    # Sort the songs based on similarity scores\n",
    "    sim_scores = sorted(sim_scores, key=lambda x: x[1], reverse=True)\n",
    "    \n",
    "    # Get the top 10 similar songs (excluding the song itself)\n",
    "    sim_scores = sim_scores[1:11]\n",
    "    \n",
    "    # Get the song indices\n",
    "    song_indices = [i[0] for i in sim_scores]\n",
    "    \n",
    "    # Return the top 10 similar songs\n",
    "    return df.iloc[song_indices][['song', 'artist']]"
   ]
  },
  {
   "cell_type": "code",
   "execution_count": null,
   "metadata": {},
   "outputs": [],
   "source": [
    "# Create a dropdown for song selection\n",
    "song_dropdown = widgets.Dropdown(\n",
    "    options=df['song'].values,\n",
    "    description='Select a song:',\n",
    "    disabled=False,\n",
    ")\n",
    "\n",
    "# Create a button to trigger recommendations\n",
    "recommend_button = widgets.Button(\n",
    "    description='Show Recommendations',\n",
    "    disabled=False,\n",
    "    button_style='success',  # 'success', 'info', 'warning', 'danger' or ''\n",
    "    tooltip='Click to get recommendations',\n",
    ")\n",
    "\n",
    "# Output widget to display recommendations\n",
    "output = widgets.Output()\n",
    "\n",
    "# Function to handle button click\n",
    "def on_button_click(b):\n",
    "    with output:\n",
    "        output.clear_output()  # Clear previous output\n",
    "        selected_song = song_dropdown.value\n",
    "        if selected_song:\n",
    "            recommendations = recommend(selected_song, df, cosine_sim)\n",
    "            print(\"### Recommended Songs:\")\n",
    "            for i, row in recommendations.iterrows():\n",
    "                print(f\"**{row['song']}** by **{row['artist']}**\")\n",
    "        else:\n",
    "            print(\"Please select a song.\")\n",
    "\n",
    "# Attach the function to the button click event\n",
    "recommend_button.on_click(on_button_click)\n",
    "\n",
    "# Display the widgets\n",
    "display(song_dropdown, recommend_button, output)"
   ]
  }
 ],
 "metadata": {
  "kernelspec": {
   "display_name": "Python 3",
   "language": "python",
   "name": "python3"
  },
  "language_info": {
   "codemirror_mode": {
    "name": "ipython",
    "version": 3
   },
   "file_extension": ".py",
   "mimetype": "text/x-python",
   "name": "python",
   "nbconvert_exporter": "python",
   "pygments_lexer": "ipython3",
   "version": "3.12.6"
  }
 },
 "nbformat": 4,
 "nbformat_minor": 2
}
